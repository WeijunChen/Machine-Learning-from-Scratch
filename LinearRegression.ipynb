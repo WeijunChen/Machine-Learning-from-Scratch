{
 "cells": [
  {
   "cell_type": "markdown",
   "metadata": {},
   "source": [
    "## Simple Linear Regression with Gradient Descent"
   ]
  },
  {
   "cell_type": "markdown",
   "metadata": {},
   "source": [
    "We will build a simple Linear Regression model using Gradient Descent optimization for learning purpose."
   ]
  },
  {
   "cell_type": "markdown",
   "metadata": {},
   "source": [
    "**Cost Function**: \n",
    "$$ J(w) = \\frac{1}{2m} \\sum_{i=1}^m (y_{i} - h(x_{i})^{T}w)^{2}$$  \n",
    "**Compute the Derivative**: \n",
    "$$ w_{j} := w_{j} - \\alpha\\frac{1}{m} (\\sum_{i=1}^mh_{j}(x_{j})(y_{i} - h(x_{i})^{T}w^{(t)})) $$  \n",
    "\n"
   ]
  },
  {
   "cell_type": "code",
   "execution_count": 1,
   "metadata": {},
   "outputs": [],
   "source": [
    "import pandas as pd\n",
    "import numpy as np\n",
    "import matplotlib.pyplot as plt\n",
    "import os"
   ]
  },
  {
   "cell_type": "code",
   "execution_count": 2,
   "metadata": {},
   "outputs": [],
   "source": [
    "df = pd.read_csv('/Users/Multi_linear.csv')"
   ]
  },
  {
   "cell_type": "markdown",
   "metadata": {},
   "source": [
    "Let's use a simple data set for this demo. Column 0 and 1 are input features and column 2 is the output variable.\n",
    "(data [source](https://www.coursera.org/learn/machine-learning))\n"
   ]
  },
  {
   "cell_type": "code",
   "execution_count": 3,
   "metadata": {},
   "outputs": [
    {
     "data": {
      "text/html": [
       "<div>\n",
       "<style scoped>\n",
       "    .dataframe tbody tr th:only-of-type {\n",
       "        vertical-align: middle;\n",
       "    }\n",
       "\n",
       "    .dataframe tbody tr th {\n",
       "        vertical-align: top;\n",
       "    }\n",
       "\n",
       "    .dataframe thead th {\n",
       "        text-align: right;\n",
       "    }\n",
       "</style>\n",
       "<table border=\"1\" class=\"dataframe\">\n",
       "  <thead>\n",
       "    <tr style=\"text-align: right;\">\n",
       "      <th></th>\n",
       "      <th>0</th>\n",
       "      <th>1</th>\n",
       "      <th>2</th>\n",
       "    </tr>\n",
       "  </thead>\n",
       "  <tbody>\n",
       "    <tr>\n",
       "      <th>0</th>\n",
       "      <td>2104</td>\n",
       "      <td>3</td>\n",
       "      <td>399900</td>\n",
       "    </tr>\n",
       "    <tr>\n",
       "      <th>1</th>\n",
       "      <td>1600</td>\n",
       "      <td>3</td>\n",
       "      <td>329900</td>\n",
       "    </tr>\n",
       "    <tr>\n",
       "      <th>2</th>\n",
       "      <td>2400</td>\n",
       "      <td>3</td>\n",
       "      <td>369000</td>\n",
       "    </tr>\n",
       "    <tr>\n",
       "      <th>3</th>\n",
       "      <td>1416</td>\n",
       "      <td>2</td>\n",
       "      <td>232000</td>\n",
       "    </tr>\n",
       "    <tr>\n",
       "      <th>4</th>\n",
       "      <td>3000</td>\n",
       "      <td>4</td>\n",
       "      <td>539900</td>\n",
       "    </tr>\n",
       "  </tbody>\n",
       "</table>\n",
       "</div>"
      ],
      "text/plain": [
       "      0  1       2\n",
       "0  2104  3  399900\n",
       "1  1600  3  329900\n",
       "2  2400  3  369000\n",
       "3  1416  2  232000\n",
       "4  3000  4  539900"
      ]
     },
     "execution_count": 3,
     "metadata": {},
     "output_type": "execute_result"
    }
   ],
   "source": [
    "df.head(5)"
   ]
  },
  {
   "cell_type": "markdown",
   "metadata": {},
   "source": [
    "#### Let's define functions to initialize weights, calculate cost function and derivative for GD."
   ]
  },
  {
   "cell_type": "code",
   "execution_count": 4,
   "metadata": {},
   "outputs": [],
   "source": [
    "def initial_weights(dimention):\n",
    "    \"\"\"\n",
    "    This function creates a vector of shape (dim, 1) for parameter w\n",
    "    \n",
    "    Argument:\n",
    "    dimention -- number of parameters\n",
    "    \"\"\"\n",
    "    w = np.ones(shape=(dimention, 1))\n",
    "    assert(w.shape == (dimention, 1))\n",
    "    return w"
   ]
  },
  {
   "cell_type": "code",
   "execution_count": 5,
   "metadata": {},
   "outputs": [],
   "source": [
    "def predict_output(X, weights):\n",
    "    \"\"\"\n",
    "    Argument:\n",
    "    X -- feature matrix containing the features as columns\n",
    "    weights -- regression parameters\n",
    "    \"\"\"\n",
    "    predictions = np.dot(X, weights)\n",
    "    return predictions"
   ]
  },
  {
   "cell_type": "code",
   "execution_count": 6,
   "metadata": {},
   "outputs": [],
   "source": [
    "def Cost(X, y, weights):\n",
    "    \n",
    "    \"\"\"\n",
    "    Take in a numpy array X, y, weights and calculate the cost function\n",
    "    \"\"\"\n",
    "    \n",
    "    m=len(y)\n",
    "    predictions = predict_output(X, weights)\n",
    "    square_error = (predictions - y)**2\n",
    "    \n",
    "    return 1/(2*m) * np.sum(square_error)"
   ]
  },
  {
   "cell_type": "code",
   "execution_count": 7,
   "metadata": {},
   "outputs": [],
   "source": [
    "def gradient_descent(X, y, weights, alpha, num_iters):\n",
    "    \n",
    "    \"\"\"\n",
    "    Argument:\n",
    "    X, y\n",
    "    weights -- regression parameters\n",
    "    alpha -- learning rate\n",
    "    num_iters -- num_iters gradient steps\n",
    "    \n",
    "\n",
    "    Return:\n",
    "    weights and the list of the cost of weights during each iteration\n",
    "    \"\"\"\n",
    "    \n",
    "    m = len(y)\n",
    "    cost_history = []\n",
    "    \n",
    "    for i in range(num_iters):\n",
    "        predictions = predict_output(X, weights)\n",
    "        derivative = np.dot(X.T, (predictions - y))\n",
    "        descent = alpha * 1/m * derivative\n",
    "        weights -= descent\n",
    "        cost_history.append(Cost(X,y,weights))\n",
    "    return weights, cost_history"
   ]
  },
  {
   "cell_type": "code",
   "execution_count": 8,
   "metadata": {},
   "outputs": [],
   "source": [
    "def featureNormalization(X):\n",
    "    mean=np.mean(X,axis=0)\n",
    "    std=np.std(X,axis=0)\n",
    "    X_norm = (X - mean)/std\n",
    "    return X_norm"
   ]
  },
  {
   "cell_type": "markdown",
   "metadata": {},
   "source": [
    "#### Prepare data and normalize it"
   ]
  },
  {
   "cell_type": "code",
   "execution_count": 9,
   "metadata": {},
   "outputs": [],
   "source": [
    "data = df.values\n",
    "m = data.shape[0]\n",
    "X = data[:,0:2]\n",
    "X = featureNormalization(X)\n",
    "X = np.append(np.ones((m,1)),X,axis=1)\n",
    "y = data[:,-1].reshape(m,1)"
   ]
  },
  {
   "cell_type": "markdown",
   "metadata": {},
   "source": [
    "#### Update weights using gradient descent"
   ]
  },
  {
   "cell_type": "code",
   "execution_count": 13,
   "metadata": {},
   "outputs": [
    {
     "name": "stdout",
     "output_type": "stream",
     "text": [
      "CPU times: user 21.9 ms, sys: 7.86 ms, total: 29.8 ms\n",
      "Wall time: 23.6 ms\n"
     ]
    }
   ],
   "source": [
    "%%time\n",
    "w_initial = initial_weights(X.shape[1])\n",
    "learning_rate = 0.1\n",
    "iterations = 400\n",
    "weights, cost_history = gradient_descent(X, y, w_initial, learning_rate, iterations)"
   ]
  },
  {
   "cell_type": "markdown",
   "metadata": {},
   "source": [
    "#### Estimated parameters for our Linear Regression model"
   ]
  },
  {
   "cell_type": "code",
   "execution_count": 11,
   "metadata": {
    "scrolled": true
   },
   "outputs": [
    {
     "name": "stdout",
     "output_type": "stream",
     "text": [
      "h(x) = 340412.66 + 109447.8x1 + -6578.35x2\n"
     ]
    }
   ],
   "source": [
    "print(\"h(x) = \"+str(round(weights[0,0],2))+\" + \"+str(round(weights[1,0],2))+\"x1 + \"+str(round(weights[2,0],2))+\"x2\")"
   ]
  },
  {
   "cell_type": "markdown",
   "metadata": {},
   "source": [
    "#### Visualize the learning process"
   ]
  },
  {
   "cell_type": "code",
   "execution_count": 12,
   "metadata": {},
   "outputs": [
    {
     "data": {
      "text/plain": [
       "Text(0.5,1,'Cost function using Gradient Descent')"
      ]
     },
     "execution_count": 12,
     "metadata": {},
     "output_type": "execute_result"
    },
    {
     "data": {
      "image/png": "[encoded data removed]",
      "text/plain": [
       "<Figure size 432x288 with 1 Axes>"
      ]
     },
     "metadata": {
      "needs_background": "light"
     },
     "output_type": "display_data"
    }
   ],
   "source": [
    "plt.plot(cost_history)\n",
    "plt.xlabel(\"Iteration\")\n",
    "plt.ylabel(\"$J(w)$\")\n",
    "plt.title(\"Cost function using Gradient Descent\")"
   ]
  }
 ],
 "metadata": {
  "kernelspec": {
   "display_name": "Python 3",
   "language": "python",
   "name": "python3"
  },
  "language_info": {
   "codemirror_mode": {
    "name": "ipython",
    "version": 3
   },
   "file_extension": ".py",
   "mimetype": "text/x-python",
   "name": "python",
   "nbconvert_exporter": "python",
   "pygments_lexer": "ipython3",
   "version": "3.7.0"
  }
 },
 "nbformat": 4,
 "nbformat_minor": 2
}
