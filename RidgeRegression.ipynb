{
 "cells": [
  {
   "cell_type": "markdown",
   "metadata": {},
   "source": [
    "## Ridge Regression with Gradient Descent"
   ]
  },
  {
   "cell_type": "markdown",
   "metadata": {},
   "source": [
    "We will build a Linear Regression model with Ridge regularization to balance fit and magnitude of coefficients using Gradient Descent optimization for learning purpose."
   ]
  },
  {
   "cell_type": "markdown",
   "metadata": {},
   "source": [
    "**Cost Function**: \n",
    "$$ J(w) = \\frac{1}{2m} [\\sum_{i=1}^m (y_{i} - h(x_{i})^{T}w)^{2} + \\lambda\\sum_{j=1}^nw^{2}_{j}]$$  \n",
    "**Compute the Derivative**: \n",
    "$$ w_{j} := w_{j} - \\alpha[\\frac{1}{m} (\\sum_{i=1}^mh_{j}(x_{j})(y_{i} - h(x_{i})^{T}w^{(t)})) + \\frac{\\lambda}{m}w_{j}] $$  \n",
    "\n"
   ]
  },
  {
   "cell_type": "code",
   "execution_count": 1,
   "metadata": {},
   "outputs": [],
   "source": [
    "import pandas as pd\n",
    "import numpy as np\n",
    "import matplotlib.pyplot as plt\n",
    "import os"
   ]
  },
  {
   "cell_type": "code",
   "execution_count": 2,
   "metadata": {},
   "outputs": [],
   "source": [
    "df = pd.read_csv('/Users/weijunchen/Py_project/MLfromScratch/Machine-Learning-from-Scratch/Multi_linear.csv')"
   ]
  },
  {
   "cell_type": "code",
   "execution_count": 3,
   "metadata": {},
   "outputs": [],
   "source": [
    "df.columns = ['x1', 'x2', 'y']"
   ]
  },
  {
   "cell_type": "markdown",
   "metadata": {},
   "source": [
    "Let's use a simple data set for this demo.\n",
    "(data [source](https://www.coursera.org/learn/machine-learning))\n"
   ]
  },
  {
   "cell_type": "code",
   "execution_count": 4,
   "metadata": {},
   "outputs": [
    {
     "data": {
      "text/html": [
       "<div>\n",
       "<style scoped>\n",
       "    .dataframe tbody tr th:only-of-type {\n",
       "        vertical-align: middle;\n",
       "    }\n",
       "\n",
       "    .dataframe tbody tr th {\n",
       "        vertical-align: top;\n",
       "    }\n",
       "\n",
       "    .dataframe thead th {\n",
       "        text-align: right;\n",
       "    }\n",
       "</style>\n",
       "<table border=\"1\" class=\"dataframe\">\n",
       "  <thead>\n",
       "    <tr style=\"text-align: right;\">\n",
       "      <th></th>\n",
       "      <th>x1</th>\n",
       "      <th>x2</th>\n",
       "      <th>y</th>\n",
       "    </tr>\n",
       "  </thead>\n",
       "  <tbody>\n",
       "    <tr>\n",
       "      <th>0</th>\n",
       "      <td>2104</td>\n",
       "      <td>3</td>\n",
       "      <td>399900</td>\n",
       "    </tr>\n",
       "    <tr>\n",
       "      <th>1</th>\n",
       "      <td>1600</td>\n",
       "      <td>3</td>\n",
       "      <td>329900</td>\n",
       "    </tr>\n",
       "    <tr>\n",
       "      <th>2</th>\n",
       "      <td>2400</td>\n",
       "      <td>3</td>\n",
       "      <td>369000</td>\n",
       "    </tr>\n",
       "    <tr>\n",
       "      <th>3</th>\n",
       "      <td>1416</td>\n",
       "      <td>2</td>\n",
       "      <td>232000</td>\n",
       "    </tr>\n",
       "    <tr>\n",
       "      <th>4</th>\n",
       "      <td>3000</td>\n",
       "      <td>4</td>\n",
       "      <td>539900</td>\n",
       "    </tr>\n",
       "  </tbody>\n",
       "</table>\n",
       "</div>"
      ],
      "text/plain": [
       "     x1  x2       y\n",
       "0  2104   3  399900\n",
       "1  1600   3  329900\n",
       "2  2400   3  369000\n",
       "3  1416   2  232000\n",
       "4  3000   4  539900"
      ]
     },
     "execution_count": 4,
     "metadata": {},
     "output_type": "execute_result"
    }
   ],
   "source": [
    "df.head(5)"
   ]
  },
  {
   "cell_type": "markdown",
   "metadata": {},
   "source": [
    "Add some polynomial terms"
   ]
  },
  {
   "cell_type": "code",
   "execution_count": 5,
   "metadata": {},
   "outputs": [],
   "source": [
    "df['x3'] = df['x2'].values**2\n",
    "df['x4'] = df['x2'].values**3\n",
    "df['x5'] = df['x2'].values**4\n",
    "df['x6'] = df['x2'].values**5\n",
    "df['x7'] = df['x1'].values**2"
   ]
  },
  {
   "cell_type": "markdown",
   "metadata": {},
   "source": [
    "#### Let's define functions to initialize weights, calculate cost function and derivative for GD."
   ]
  },
  {
   "cell_type": "code",
   "execution_count": 6,
   "metadata": {},
   "outputs": [],
   "source": [
    "def featureNormalization(X):\n",
    "    mean=np.mean(X,axis=0)\n",
    "    std=np.std(X,axis=0)\n",
    "    X_norm = (X - mean)/std\n",
    "    return X_norm"
   ]
  },
  {
   "cell_type": "code",
   "execution_count": 7,
   "metadata": {},
   "outputs": [],
   "source": [
    "def initialize_weights(dimention):\n",
    "    \"\"\"\n",
    "    This function creates a vector of shape (dim, 1) for parameter w\n",
    "    \n",
    "    Argument:\n",
    "    dimention -- number of parameters\n",
    "    \"\"\"\n",
    "    w = np.ones(shape=(dimention, 1))\n",
    "    assert(w.shape == (dimention, 1))\n",
    "    return w"
   ]
  },
  {
   "cell_type": "code",
   "execution_count": 8,
   "metadata": {},
   "outputs": [],
   "source": [
    "def predict_output(feature_matrix, weights):\n",
    "    predictions = np.dot(feature_matrix, weights)\n",
    "    return predictions"
   ]
  },
  {
   "cell_type": "code",
   "execution_count": 9,
   "metadata": {},
   "outputs": [],
   "source": [
    "def feature_derivative_ridge(errors, feature, weight, l2_penalty, feature_is_constant):\n",
    "    if feature_is_constant == True:\n",
    "        derivative = 2 * np.dot(errors.T, feature)\n",
    "    else:\n",
    "        derivative = 2 * np.dot(errors.T, feature) + 2*(l2_penalty*weight)\n",
    "    return derivative"
   ]
  },
  {
   "cell_type": "code",
   "execution_count": 10,
   "metadata": {},
   "outputs": [],
   "source": [
    "def cost(feature_matrix, output, weights, l2_penalty):\n",
    "    m=len(output)\n",
    "    predictions = predict_output(feature_matrix, weights)\n",
    "    square_error = (predictions - y)**2\n",
    "    # not include intercept term\n",
    "    l2_term = weights[1:]**2\n",
    "    return 1/(2*m) * (np.sum(square_error) + np.sum(l2_term))"
   ]
  },
  {
   "cell_type": "code",
   "execution_count": 11,
   "metadata": {},
   "outputs": [],
   "source": [
    "def ridge_regression_gradient_descent(feature_matrix, output, initial_weights, step_size, l2_penalty, max_iterations=100):\n",
    "    weights = np.array(initial_weights) # make sure it's a numpy array\n",
    "    \n",
    "    cost_history = []\n",
    "    while max_iterations > 0:\n",
    "        predictions = predict_output(feature_matrix, weights)\n",
    "        errors = predictions - output\n",
    "        for i in range(len(weights)): \n",
    "            if i == 0:\n",
    "                feature_is_constant = True\n",
    "            else:\n",
    "                feature_is_constant = False\n",
    "            # calculate derivative\n",
    "            derivative = feature_derivative_ridge(errors, feature_matrix[:,i], weights[i], l2_penalty, feature_is_constant)\n",
    "            weights[i] = weights[i] - (step_size * derivative)\n",
    "        cost_history.append(cost(feature_matrix, output, weights, l2_penalty))\n",
    "        max_iterations -= 1            \n",
    "    return weights, cost_history\n"
   ]
  },
  {
   "cell_type": "markdown",
   "metadata": {},
   "source": [
    "#### Prepare data and normalize it"
   ]
  },
  {
   "cell_type": "code",
   "execution_count": 12,
   "metadata": {},
   "outputs": [],
   "source": [
    "m = df.shape[0]\n",
    "y = df['y'].values.reshape(m,1)\n",
    "X = df.drop(columns=['y']).values\n",
    "X = featureNormalization(X)\n",
    "X = np.append(np.ones((m,1)),X,axis=1)"
   ]
  },
  {
   "cell_type": "markdown",
   "metadata": {},
   "source": [
    "#### Update weights using gradient descent"
   ]
  },
  {
   "cell_type": "code",
   "execution_count": 13,
   "metadata": {},
   "outputs": [],
   "source": [
    "n = X.shape[1]\n",
    "initial_weights = initialize_weights(n)\n",
    "step_size = 1e-8\n",
    "max_iterations = 500\n",
    "\n",
    "no_l2_penalty = 0\n",
    "l2_penalty = 1e6"
   ]
  },
  {
   "cell_type": "markdown",
   "metadata": {},
   "source": [
    "#### No L2 penalty: $\\lambda = 0 $"
   ]
  },
  {
   "cell_type": "code",
   "execution_count": 14,
   "metadata": {},
   "outputs": [],
   "source": [
    "w1, cost_history1 = ridge_regression_gradient_descent(X, y, \n",
    "                                                               initial_weights, step_size, \n",
    "                                                               no_l2_penalty, max_iterations)"
   ]
  },
  {
   "cell_type": "code",
   "execution_count": 15,
   "metadata": {},
   "outputs": [
    {
     "name": "stdout",
     "output_type": "stream",
     "text": [
      "h(x) = 160.96 + 50.66x1 + 26.67x2 + 27.68x3 + 28.44x4 + 29.07x5 + 29.55x6 + 49.4x7\n"
     ]
    }
   ],
   "source": [
    "print(\"h(x) = \"+str(round(w1[0,0],2))+\" + \"\\\n",
    "      +str(round(w1[1,0],2))+\"x1 + \" \\\n",
    "      +str(round(w1[2,0],2))+\"x2 + \" \\\n",
    "      +str(round(w1[3,0],2))+\"x3 + \" \\\n",
    "      +str(round(w1[4,0],2))+\"x4 + \" \\\n",
    "      +str(round(w1[5,0],2))+\"x5 + \" \\\n",
    "      +str(round(w1[6,0],2))+\"x6 + \" \\\n",
    "      +str(round(w1[7,0],2))+\"x7\")"
   ]
  },
  {
   "cell_type": "markdown",
   "metadata": {},
   "source": [
    "#### with L2 penalty: $\\lambda > 0 $"
   ]
  },
  {
   "cell_type": "code",
   "execution_count": 16,
   "metadata": {},
   "outputs": [],
   "source": [
    "w2, cost_history2 = ridge_regression_gradient_descent(X, y, \n",
    "                                                      initial_weights, step_size, \n",
    "                                                      l2_penalty, max_iterations)"
   ]
  },
  {
   "cell_type": "code",
   "execution_count": 17,
   "metadata": {},
   "outputs": [
    {
     "name": "stdout",
     "output_type": "stream",
     "text": [
      "h(x) = 160.96 + 4.97x1 + 2.57x2 + 2.67x3 + 2.75x4 + 2.81x5 + 2.86x6 + 4.84x7\n"
     ]
    }
   ],
   "source": [
    "print(\"h(x) = \"+str(round(w2[0,0],2))+\" + \"\\\n",
    "      +str(round(w2[1,0],2))+\"x1 + \" \\\n",
    "      +str(round(w2[2,0],2))+\"x2 + \" \\\n",
    "      +str(round(w2[3,0],2))+\"x3 + \" \\\n",
    "      +str(round(w2[4,0],2))+\"x4 + \" \\\n",
    "      +str(round(w2[5,0],2))+\"x5 + \" \\\n",
    "      +str(round(w2[6,0],2))+\"x6 + \" \\\n",
    "      +str(round(w2[7,0],2))+\"x7\")"
   ]
  }
 ],
 "metadata": {
  "kernelspec": {
   "display_name": "Python 3",
   "language": "python",
   "name": "python3"
  },
  "language_info": {
   "codemirror_mode": {
    "name": "ipython",
    "version": 3
   },
   "file_extension": ".py",
   "mimetype": "text/x-python",
   "name": "python",
   "nbconvert_exporter": "python",
   "pygments_lexer": "ipython3",
   "version": "3.7.0"
  }
 },
 "nbformat": 4,
 "nbformat_minor": 2
}
